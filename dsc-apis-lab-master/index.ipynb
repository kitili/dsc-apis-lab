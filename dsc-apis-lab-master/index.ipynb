{
 "cells": [
  {
   "cell_type": "markdown",
   "metadata": {},
   "source": [
    "# APIs - Cumulative Lab\n",
    "\n",
    "\n",
    "## Introduction \n",
    "\n",
    "We've seen how the Yelp API works and how to create basic visualizations using Folium. It's time to put those skills to work in order to create a working map! Taking things a step further, you'll also independently explore how to perform pagination in order to retrieve a full results set from the Yelp API.\n",
    "\n",
    "## Objectives\n",
    "\n",
    "You will be able to: \n",
    "\n",
    "* Practice using functions to organize your code\n",
    "* Use pagination to retrieve all results from an API query\n",
    "* Practice parsing data returned from an API query\n",
    "* Practice interpreting visualizations of a dataset\n",
    "* Create maps using Folium"
   ]
  },
  {
   "cell_type": "markdown",
   "metadata": {},
   "source": [
    "## Your Task: Query Yelp for All Businesses in a Category and Analyze the Results\n",
    "\n",
    "![restaurant counter with pizza](images/restaurant_counter.jpg)\n",
    "\n",
    "Photo by <a href=\"https://unsplash.com/@jordanmadrid?utm_source=unsplash&utm_medium=referral&utm_content=creditCopyText\">Jordan Madrid</a> on <a href=\"/s/photos/pizza-restaurant?utm_source=unsplash&utm_medium=referral&utm_content=creditCopyText\">Unsplash</a>"
   ]
  },
  {
   "cell_type": "markdown",
   "metadata": {},
   "source": [
    "### Overview\n",
    "\n",
    "You've now worked with some API calls, but we have yet to see how to retrieve a more complete dataset in a programmatic manner. In this lab, you will write a query of businesses on Yelp, then use *pagination* to retrieve all possible results for that query. Then you will create a summary of your findings, including a Folium map of the geographic locations of those businesses.\n",
    "\n",
    "### Technical Details\n",
    "\n",
    "Returning to the Yelp API, the [documentation](https://www.yelp.com/developers/documentation/v3/business_search) also provides us details regarding the **API limits**. These often include details about the number of requests a user is allowed to make within a specified time limit and the maximum number of results to be returned. In this case, we are told that any request has a **maximum of 50 results per request** and defaults to 20. Furthermore, any search will be limited to a **total of 1000 results**. To retrieve all 1000 of these results, we would have to page through the results piece by piece, retrieving 50 at a time. Processes such as these are often referred to as pagination.\n",
    "\n",
    "Also, be mindful of the **API** ***rate*** **limits**. You can only make **5000 requests per day** and can make requests too fast. Start prototyping small before running a loop that could be faulty. You can also use `time.sleep(n)` to add delays. For more details see https://www.yelp.com/developers/documentation/v3/rate_limiting.\n",
    "\n",
    "In this lab, you will define a search and then paginate over the results to retrieve all of the results. You'll then parse these responses as a list of dictionaries (for further exploration) and create a map using Folium to visualize the results geographically.\n",
    "\n",
    "### Requirements\n",
    "\n",
    "#### 1. Make the Initial Request\n",
    "\n",
    "Start by filling in your API key to make the initial request to the business search API. Investigate the structure of the response you get back and start figuring out how you will extract the relevant information.\n",
    "\n",
    "#### 2. Add Pagination\n",
    "\n",
    "Using loops and functions, collect the maximum number of results for your query from the API.\n",
    "\n",
    "#### 3. Perform Exploratory Analysis\n",
    "\n",
    "Interpret visualizations related to the price range, average rating, and number of reviews for all query results.\n",
    "\n",
    "#### 4. Create a Folium Map\n",
    "\n",
    "Using latitude and longitude data, plot the query results on an interactive map."
   ]
  },
  {
   "cell_type": "markdown",
   "metadata": {},
   "source": [
    "## 1. Make the Initial Request\n",
    "\n",
    "### Querying\n",
    "\n",
    "Start by making an initial request to the Yelp API. Your search must include at least 2 parameters: **term** and **location**. For example, you might search for pizza restaurants in NYC. The term and location is up to you but make the request below.\n",
    "\n",
    "Use the `requests` library ([documentation here](https://requests.readthedocs.io/en/master/user/quickstart/#make-a-request)).\n",
    "\n",
    "You'll also need an API key from Yelp. If you haven't done this already, go to the Yelp [Manage App page](https://www.yelp.com/developers/v3/manage_app) and create a new app (after making an account if you haven't already)."
   ]
  },
  {
   "cell_type": "code",
   "execution_count": 1,
   "metadata": {},
   "outputs": [],
   "source": [
    "import json\n",
    "\n",
    "\n",
    "path = \"./.secret/keys.json\"\n",
    "\n",
    "\n",
    "def get_key():\n",
    "    \"\"\"\n",
    "    Function that extracts the api key from secret directory\n",
    "    Returns:\n",
    "        keys (dict): the client id and api key\n",
    "    \"\"\"\n",
    "    with open(path) as file:\n",
    "        return json.load(file)\n",
    "    "
   ]
  },
  {
   "cell_type": "code",
   "execution_count": 2,
   "metadata": {},
   "outputs": [
    {
     "data": {
      "text/plain": [
       "<Response [200]>"
      ]
     },
     "execution_count": 2,
     "metadata": {},
     "output_type": "execute_result"
    }
   ],
   "source": [
    "# Replace None with appropriate code\n",
    "\n",
    "# Import the requests library\n",
    "import requests\n",
    "\n",
    "# Get this from the \"Manage App\" page. Make sure you set them\n",
    "# back to None before pushing this to GitHub, since otherwise\n",
    "# your credentials will be compromised\n",
    "\n",
    "api_key = get_key()['api_key']\n",
    "\n",
    "# These can be whatever you want! But the solution uses \"pizza\"\n",
    "# and \"New York NY\" if you want to compare your work directly\n",
    "term = \"pizza\"\n",
    "location = \"New York NY\"\n",
    "\n",
    "# Set up params for request\n",
    "url = \"https://api.yelp.com/v3/businesses/search\"\n",
    "headers = {\n",
    "    \"Authorization\": \"Bearer {}\".format(api_key)\n",
    "}\n",
    "url_params = {\n",
    "    \"term\": term.replace(\" \", \"+\"),\n",
    "    \"location\": location.replace(\" \", \"+\")\n",
    "}\n",
    "\n",
    "# Make the request using requests.get, passing in\n",
    "# url, headers=headers, and params=url_params\n",
    "response = requests.get(url, headers=headers, params=url_params)\n",
    "\n",
    "# Confirm we got a 200 response\n",
    "response"
   ]
  },
  {
   "cell_type": "code",
   "execution_count": 3,
   "metadata": {},
   "outputs": [
    {
     "data": {
      "text/plain": [
       "dict_keys(['businesses', 'total', 'region'])"
      ]
     },
     "execution_count": 3,
     "metadata": {},
     "output_type": "execute_result"
    }
   ],
   "source": [
    "# Run this cell without changes\n",
    "\n",
    "# Get the response body in JSON format\n",
    "response_json = response.json()\n",
    "# View the keys\n",
    "response_json.keys()"
   ]
  },
  {
   "cell_type": "markdown",
   "metadata": {},
   "source": [
    "### Extracting Data\n",
    "\n",
    "Now, retrieve the value associated with the `'businesses'` key, and inspect its contents."
   ]
  },
  {
   "cell_type": "code",
   "execution_count": 4,
   "metadata": {},
   "outputs": [
    {
     "data": {
      "text/plain": [
       "[{'id': 'zj8Lq1T8KIC5zwFief15jg',\n",
       "  'alias': 'prince-street-pizza-new-york-2',\n",
       "  'name': 'Prince Street Pizza',\n",
       "  'image_url': 'https://s3-media4.fl.yelpcdn.com/bphoto/PfI8oV4ct9ZJZNtUhSS8DQ/o.jpg',\n",
       "  'is_closed': False,\n",
       "  'url': 'https://www.yelp.com/biz/prince-street-pizza-new-york-2?adjust_creative=K2H4jbqKE_Z8BYvYQaOIEg&utm_campaign=yelp_api_v3&utm_medium=api_v3_business_search&utm_source=K2H4jbqKE_Z8BYvYQaOIEg',\n",
       "  'review_count': 4953,\n",
       "  'categories': [{'alias': 'pizza', 'title': 'Pizza'},\n",
       "   {'alias': 'italian', 'title': 'Italian'}],\n",
       "  'rating': 4.5,\n",
       "  'coordinates': {'latitude': 40.72308755605564,\n",
       "   'longitude': -73.99453001177575},\n",
       "  'transactions': ['delivery', 'pickup'],\n",
       "  'price': '$',\n",
       "  'location': {'address1': '27 Prince St',\n",
       "   'address2': None,\n",
       "   'address3': '',\n",
       "   'city': 'New York',\n",
       "   'zip_code': '10012',\n",
       "   'country': 'US',\n",
       "   'state': 'NY',\n",
       "   'display_address': ['27 Prince St', 'New York, NY 10012']},\n",
       "  'phone': '+12129664100',\n",
       "  'display_phone': '(212) 966-4100',\n",
       "  'distance': 2209.3116178604555},\n",
       " {'id': 'ysqgdbSrezXgVwER2kQWKA',\n",
       "  'alias': 'julianas-brooklyn-3',\n",
       "  'name': \"Juliana's\",\n",
       "  'image_url': 'https://s3-media2.fl.yelpcdn.com/bphoto/NVoLFle5H-SHNN6piAKIYw/o.jpg',\n",
       "  'is_closed': False,\n",
       "  'url': 'https://www.yelp.com/biz/julianas-brooklyn-3?adjust_creative=K2H4jbqKE_Z8BYvYQaOIEg&utm_campaign=yelp_api_v3&utm_medium=api_v3_business_search&utm_source=K2H4jbqKE_Z8BYvYQaOIEg',\n",
       "  'review_count': 2661,\n",
       "  'categories': [{'alias': 'pizza', 'title': 'Pizza'}],\n",
       "  'rating': 4.5,\n",
       "  'coordinates': {'latitude': 40.70274718768062,\n",
       "   'longitude': -73.99343490196397},\n",
       "  'transactions': ['delivery'],\n",
       "  'price': '$$',\n",
       "  'location': {'address1': '19 Old Fulton St',\n",
       "   'address2': '',\n",
       "   'address3': '',\n",
       "   'city': 'Brooklyn',\n",
       "   'zip_code': '11201',\n",
       "   'country': 'US',\n",
       "   'state': 'NY',\n",
       "   'display_address': ['19 Old Fulton St', 'Brooklyn, NY 11201']},\n",
       "  'phone': '+17185966700',\n",
       "  'display_phone': '(718) 596-6700',\n",
       "  'distance': 1289.8572856708206}]"
      ]
     },
     "execution_count": 4,
     "metadata": {},
     "output_type": "execute_result"
    }
   ],
   "source": [
    "# Replace None with appropriate code\n",
    "\n",
    "# Retrieve the value from response_json\n",
    "businesses = response_json['businesses']\n",
    "\n",
    "# View the first 2 records\n",
    "businesses[:2]"
   ]
  },
  {
   "cell_type": "markdown",
   "metadata": {},
   "source": [
    "### Preparing Data\n",
    "\n",
    "Write a function `prepare_data` that takes in a list of dictionaries like `businesses` and returns a copy that has been prepared for analysis:\n",
    "\n",
    "1. The `coordinates` key-value pair has been converted into two separate key-value pairs, `latitude` and `longitude`\n",
    "2. All other key-value pairs except for `name`, `review_count`, `rating`, and `price` have been dropped\n",
    "3. All dictionaries missing one of the relevant keys or containing null values have been dropped\n",
    "\n",
    "In other words, the final keys for each dictionary should be `name`, `review_count`, `rating`, `price`, `latitude`, and `longitude`.\n",
    "\n",
    "Complete the function in the cell below:"
   ]
  },
  {
   "cell_type": "code",
   "execution_count": 5,
   "metadata": {},
   "outputs": [
    {
     "data": {
      "text/plain": [
       "[{'latitude': 40.72308755605564,\n",
       "  'longitude': -73.99453001177575,\n",
       "  'name': 'Prince Street Pizza',\n",
       "  'review_count': 4953,\n",
       "  'rating': 4.5,\n",
       "  'price': '$'},\n",
       " {'latitude': 40.70274718768062,\n",
       "  'longitude': -73.99343490196397,\n",
       "  'name': \"Juliana's\",\n",
       "  'review_count': 2661,\n",
       "  'rating': 4.5,\n",
       "  'price': '$$'},\n",
       " {'latitude': 40.722766,\n",
       "  'longitude': -73.996233,\n",
       "  'name': 'Rubirosa',\n",
       "  'review_count': 3066,\n",
       "  'rating': 4.5,\n",
       "  'price': '$$'},\n",
       " {'latitude': 40.71162,\n",
       "  'longitude': -73.95783,\n",
       "  'name': \"L'industrie Pizzeria\",\n",
       "  'review_count': 1004,\n",
       "  'rating': 4.5,\n",
       "  'price': '$'},\n",
       " {'latitude': 40.7215934960083,\n",
       "  'longitude': -73.9955956044561,\n",
       "  'name': \"Lombardi's Pizza\",\n",
       "  'review_count': 6578,\n",
       "  'rating': 4.0,\n",
       "  'price': '$$'}]"
      ]
     },
     "execution_count": 5,
     "metadata": {},
     "output_type": "execute_result"
    }
   ],
   "source": [
    "# Replace None with appropriate code\n",
    "\n",
    "    # Make a new list to hold results\n",
    "\n",
    "        # Make a new dictionary to hold prepared data for this business\n",
    "\n",
    "        # Extract name, review_count, rating, and price key-value pairs from business_data and add to prepared_data\n",
    "        # If a key is not present in business_data, add it to prepared_data with an associated value of None\n",
    "        # Parse and add latitude and longitude columns\n",
    "        # Add to list if all values are present\n",
    "\n",
    "\"\"\"\n",
    ", , , and \n",
    "\"\"\"\n",
    "        \n",
    "def prepare_data(data_list):\n",
    "    \"\"\"\n",
    "    This function takes in a list of dictionaries and prepares it\n",
    "    for analysis\n",
    "    Returns:\n",
    "        results(list) - cleaned data\n",
    "    \"\"\"\n",
    "    \n",
    "    results = []\n",
    "    \n",
    "    for i, business_data in enumerate(data_list):\n",
    "    \n",
    "        prepared_data = {}\n",
    "        try:\n",
    "            prepared_data['latitude'] = business_data['coordinates']['latitude']\n",
    "            prepared_data['longitude'] = business_data['coordinates']['longitude']\n",
    "            prepared_data['name'] = business_data['name']\n",
    "            prepared_data['review_count'] = business_data['review_count']\n",
    "            prepared_data['rating'] = business_data['rating']\n",
    "            prepared_data['price'] = business_data['price']\n",
    "        except Exception as e:\n",
    "            # The missing key\"\"\"\n",
    "            continue\n",
    "\n",
    "        if all(prepared_data.values()):\n",
    "            results.append(prepared_data)\n",
    "        \n",
    "    \n",
    "    return results\n",
    "    \n",
    "# Test out function\n",
    "prepared_businesses = prepare_data(businesses)\n",
    "prepared_businesses[:5]\n"
   ]
  },
  {
   "cell_type": "markdown",
   "metadata": {},
   "source": [
    "Check that your function created the correct keys:"
   ]
  },
  {
   "cell_type": "code",
   "execution_count": 6,
   "metadata": {},
   "outputs": [],
   "source": [
    "# Run this cell without changes\n",
    "\n",
    "assert sorted(list(prepared_businesses[0].keys())) == ['latitude', 'longitude', 'name', 'price', 'rating', 'review_count']"
   ]
  },
  {
   "cell_type": "markdown",
   "metadata": {},
   "source": [
    "The following code will differ depending on your query, but we expect there to be 20 businesses in the original list, and potentially fewer in the prepared list (if any of them were missing data):"
   ]
  },
  {
   "cell_type": "code",
   "execution_count": 7,
   "metadata": {},
   "outputs": [
    {
     "name": "stdout",
     "output_type": "stream",
     "text": [
      "Original: 20\n",
      "Prepared: 19\n"
     ]
    }
   ],
   "source": [
    "# Run this cell without changes\n",
    "print(\"Original:\", len(businesses))\n",
    "print(\"Prepared:\", len(prepared_businesses))"
   ]
  },
  {
   "cell_type": "markdown",
   "metadata": {},
   "source": [
    "Great! We will reuse this function once we have retrieved the full dataset."
   ]
  },
  {
   "cell_type": "markdown",
   "metadata": {},
   "source": [
    "## 2. Add Pagination\n",
    "\n",
    "Now that you are able to extract information from one page of the response, let's figure out how to request as many pages as possible.\n",
    "\n",
    "### Determining the Total\n",
    "\n",
    "Depending on the number of total results for your query, you will either retrieve all of the results, or just the first 1000 (if there are more than 1000 total).\n",
    "\n",
    "We can find the total number of results using the `\"total\"` key:"
   ]
  },
  {
   "cell_type": "code",
   "execution_count": 8,
   "metadata": {},
   "outputs": [
    {
     "data": {
      "text/plain": [
       "16100"
      ]
     },
     "execution_count": 8,
     "metadata": {},
     "output_type": "execute_result"
    }
   ],
   "source": [
    "# Run this cell without changes\n",
    "response_json[\"total\"]"
   ]
  },
  {
   "cell_type": "markdown",
   "metadata": {},
   "source": [
    "(This is specific to the implementation of the Yelp API. Some APIs will just tell you that there are more pages, or will tell you the number of pages total, rather than the total number of results. If you're not sure, always check the documentation.)\n",
    "\n",
    "In the cell below, assign the variable `total` to either the value shown above (if it is less than 1000), or 1000."
   ]
  },
  {
   "cell_type": "code",
   "execution_count": 9,
   "metadata": {},
   "outputs": [],
   "source": [
    "# Replace None with appropriate code\n",
    "total = 1000"
   ]
  },
  {
   "cell_type": "markdown",
   "metadata": {},
   "source": [
    "### Calculating the Offsets\n",
    "\n",
    "The documentation states in the parameters section:\n",
    "\n",
    "> **Name**: `limit`, **Type:** int, **Description:** Optional. Number of business results to return. By default, it will return 20. Maximum is 50.\n",
    "\n",
    "> **Name**: `offset`, **Type:** int, **Description:** Optional. Offset the list of returned business results by this amount.\n",
    "\n",
    "So, to get the most results with the fewest API calls we want to set a limit of 50 every time. If, say, we wanted to get 210 total results, that would mean:\n",
    "\n",
    "1. Offset of `0` (first 50 records)\n",
    "2. Offset of `50` (second 50 records)\n",
    "3. Offset of `100` (third 50 records)\n",
    "4. Offset of `150` (fourth 50 records)\n",
    "5. Offset of `200` (final 10 records)\n",
    "\n",
    "In the cell below, create a function `get_offsets` that takes in a total and returns a list of offsets for that total. You can assume that there is a limit of 50 every time.\n",
    "\n",
    "*Hint: you can use `range` ([documentation here](https://docs.python.org/3.3/library/stdtypes.html?highlight=range#range)) to do this in one line of code. Just make the returned result is a list.*"
   ]
  },
  {
   "cell_type": "code",
   "execution_count": 10,
   "metadata": {},
   "outputs": [],
   "source": [
    "# Replace None with appropriate code\n",
    "def get_offsets(total):\n",
    "    \"\"\"\n",
    "    Get a list of offsets needed to get all pages\n",
    "    of data up until the total\n",
    "    \"\"\"\n",
    "    return list(range(0, total, 50))"
   ]
  },
  {
   "cell_type": "markdown",
   "metadata": {},
   "source": [
    "Check that your function works below:"
   ]
  },
  {
   "cell_type": "code",
   "execution_count": 11,
   "metadata": {},
   "outputs": [],
   "source": [
    "# Run this cell without changes\n",
    "\n",
    "assert get_offsets(200) == [0, 50, 100, 150]\n",
    "assert get_offsets(210) == [0, 50, 100, 150, 200]"
   ]
  },
  {
   "cell_type": "markdown",
   "metadata": {},
   "source": [
    "### Putting It All Together\n",
    "\n",
    "Recall that the following variable has already been declared for you:"
   ]
  },
  {
   "cell_type": "code",
   "execution_count": 12,
   "metadata": {},
   "outputs": [
    {
     "data": {
      "text/plain": [
       "{'term': 'pizza', 'location': 'New+York+NY'}"
      ]
     },
     "execution_count": 12,
     "metadata": {},
     "output_type": "execute_result"
    }
   ],
   "source": [
    "# Run this cell without changes\n",
    "url_params"
   ]
  },
  {
   "cell_type": "markdown",
   "metadata": {},
   "source": [
    "We'll go ahead and also specify that the limit should be 50 every time:"
   ]
  },
  {
   "cell_type": "code",
   "execution_count": 13,
   "metadata": {},
   "outputs": [],
   "source": [
    "# Run this cell without changes\n",
    "url_params[\"limit\"] = 50"
   ]
  },
  {
   "cell_type": "markdown",
   "metadata": {},
   "source": [
    "In order to modify the offset, you'll need to add it to `url_params` with the key `\"offset\"` and whatever value is needed.\n",
    "\n",
    "In the cell below, write code that:\n",
    "\n",
    "* Creates an empty list for the full prepared dataset\n",
    "* Loops over all of the offsets from `get_offsets` and makes an API call each time with the specified offset\n",
    "* Calls `prepare_data` to get a cleaned version of the result of each API call\n",
    "* Extends the full prepared dataset list with each query's prepared dataset"
   ]
  },
  {
   "cell_type": "code",
   "execution_count": 14,
   "metadata": {},
   "outputs": [
    {
     "data": {
      "text/plain": [
       "722"
      ]
     },
     "execution_count": 14,
     "metadata": {},
     "output_type": "execute_result"
    }
   ],
   "source": [
    "# Replace None with appropriate code\n",
    "\n",
    "# Create an empty list for the full prepared dataset\n",
    "full_dataset = []\n",
    "\n",
    "for offset in get_offsets(total):\n",
    "    # Add or update the \"offset\" key-value pair in url_params\n",
    "#     None\n",
    "    url_params['offset'] = offset\n",
    "    # Make the query and get the response\n",
    "    response = requests.get(url, headers=headers, params=url_params)\n",
    "    \n",
    "    # Get the response body in JSON format\n",
    "    response_json = response.json()\n",
    "    \n",
    "    # Get the list of businesses from the response_json\n",
    "    businesses = response_json['businesses']\n",
    "    \n",
    "    # Call the prepare_data function to get a list of processed data\n",
    "    prepared_businesses = prepare_data(businesses)\n",
    "    \n",
    "    # Extend full_dataset with this list (don't append, or you'll get\n",
    "    # a list of lists instead of a flat list)\n",
    "    full_dataset += prepared_businesses\n",
    "\n",
    "# Check the length of the full dataset. It will be up to `total`,\n",
    "# potentially less if there were missing values\n",
    "len(full_dataset)"
   ]
  },
  {
   "cell_type": "markdown",
   "metadata": {},
   "source": [
    "This code may take up to a few minutes to run.\n",
    "\n",
    "If you get an error trying to get the response body in JSON format, try adding `time.sleep(1)` right after the `requests.get` line, so your code will sleep for 1 second between each API call."
   ]
  },
  {
   "cell_type": "markdown",
   "metadata": {},
   "source": [
    "## 3. Perform Exploratory Analysis\n",
    "\n",
    "Take the businesses from the previous question and do an initial exploratory analysis. We have provided some plots for you to interpret:"
   ]
  },
  {
   "cell_type": "code",
   "execution_count": 15,
   "metadata": {},
   "outputs": [
    {
     "data": {
      "image/png": "[encoded data removed]",
      "text/plain": [
       "<Figure size 1152x360 with 3 Axes>"
      ]
     },
     "metadata": {
      "needs_background": "light"
     },
     "output_type": "display_data"
    }
   ],
   "source": [
    "# Run this cell without changes\n",
    "from collections import Counter\n",
    "import matplotlib.pyplot as plt\n",
    "%matplotlib inline\n",
    "\n",
    "fig, (ax1, ax2, ax3) = plt.subplots(ncols=3, figsize=(16, 5))\n",
    "\n",
    "# Plot distribution of number of reviews\n",
    "all_review_counts = [x[\"review_count\"] for x in full_dataset]\n",
    "ax1.hist(all_review_counts)\n",
    "ax1.set_title(\"Review Count Distribution\")\n",
    "ax1.set_xlabel(\"Number of Reviews\")\n",
    "ax1.set_ylabel(\"Number of Businesses\")\n",
    "\n",
    "# Plot rating distribution\n",
    "all_ratings = [x[\"rating\"] for x in full_dataset]\n",
    "rating_counter = Counter(all_ratings)\n",
    "rating_keys = sorted(rating_counter.keys())\n",
    "ax2.bar(rating_keys, [rating_counter[key] for key in rating_keys])\n",
    "ax2.set_title(\"Rating Distribution\")\n",
    "ax2.set_xlabel(\"Rating\")\n",
    "ax2.set_ylabel(\"Number of Businesses\")\n",
    "\n",
    "# Plot price distribution\n",
    "all_prices = [x[\"price\"].replace(\"$\", r\"\\$\") for x in full_dataset]\n",
    "price_counter = Counter(all_prices)\n",
    "price_keys = sorted(price_counter.keys())\n",
    "ax3.bar(price_keys, [price_counter[key] for key in price_keys])\n",
    "ax3.set_title(\"Price Distribution\")\n",
    "ax3.set_xlabel(\"Price Category\")\n",
    "ax3.set_ylabel(\"Number of Businesses\");"
   ]
  },
  {
   "cell_type": "markdown",
   "metadata": {},
   "source": [
    "Describe the distributions displayed above and interpret them in the context of your query. (Your answer may differ from the solution branch depending on your query.)"
   ]
  },
  {
   "cell_type": "code",
   "execution_count": 16,
   "metadata": {},
   "outputs": [
    {
     "data": {
      "text/plain": [
       "\"\\n1. The review count is very skewed (positively) with a significant number of businesses having a review count of between 0-2500.\\n2. The rating distribution is a normal one with a central tendency of around 4. There are no business with a below 2 rating.\\n3. The price distribution is also skewed with most number of businesses having a price category of '$'.\\n\""
      ]
     },
     "execution_count": 16,
     "metadata": {},
     "output_type": "execute_result"
    }
   ],
   "source": [
    "# Replace None with appropriate text\n",
    "\"\"\"\n",
    "1. The review count is very skewed (positively) with a significant number of businesses having a review count of between 0-2500.\n",
    "2. The rating distribution is a normal one with a central tendency of around 4. There are no business with a below 2 rating.\n",
    "3. The price distribution is also skewed with most number of businesses having a price category of '$'.\n",
    "\"\"\""
   ]
  },
  {
   "cell_type": "markdown",
   "metadata": {},
   "source": [
    "In the cell below, we also plot the rating distributions by price. In this setup, a price of one dollar sign is \"lower price\" and everything else is \"higher price\"."
   ]
  },
  {
   "cell_type": "code",
   "execution_count": 17,
   "metadata": {},
   "outputs": [
    {
     "data": {
      "image/png": "[encoded data removed]",
      "text/plain": [
       "<Figure size 432x288 with 1 Axes>"
      ]
     },
     "metadata": {
      "needs_background": "light"
     },
     "output_type": "display_data"
    }
   ],
   "source": [
    "# Run this cell without changes\n",
    "\n",
    "higher_price = []\n",
    "lower_price = []\n",
    "for row in full_dataset:\n",
    "    if row[\"price\"] == \"$\":\n",
    "        lower_price.append(row[\"rating\"])\n",
    "    else:\n",
    "        higher_price.append(row[\"rating\"])\n",
    "        \n",
    "fig, ax = plt.subplots()\n",
    "\n",
    "ax.hist([higher_price, lower_price], label=[\"higher price\", \"lower price\"], density=True)\n",
    "\n",
    "ax.legend();"
   ]
  },
  {
   "cell_type": "markdown",
   "metadata": {},
   "source": [
    "Is a higher price associated with a higher rating? (No need for any additional math/statistics, just interpret what you see in the plot.)"
   ]
  },
  {
   "cell_type": "code",
   "execution_count": 18,
   "metadata": {},
   "outputs": [
    {
     "data": {
      "text/plain": [
       "'\\nYes. A higher price seems to correspond to a higher rating.\\n\\nThe peaks of the orange bars (lower price) are greater for ratings of 3.5 or below \\nthan those of the blue bars (higher price), which have higher peaks for ratings of 4 or \\nabove.\\n'"
      ]
     },
     "execution_count": 18,
     "metadata": {},
     "output_type": "execute_result"
    }
   ],
   "source": [
    "# Replace None with appropriate text\n",
    "\"\"\"\n",
    "Yes. A higher price seems to correspond to a higher rating.\n",
    "\n",
    "The peaks of the orange bars (lower price) are greater for ratings of 3.5 or below \n",
    "than those of the blue bars (higher price), which have higher peaks for ratings of 4 or \n",
    "above.\n",
    "\"\"\""
   ]
  },
  {
   "cell_type": "markdown",
   "metadata": {},
   "source": [
    "Finally, let's look at ratings vs. review counts:"
   ]
  },
  {
   "cell_type": "code",
   "execution_count": 19,
   "metadata": {},
   "outputs": [
    {
     "data": {
      "image/png": "[encoded data removed]",
      "text/plain": [
       "<Figure size 1152x360 with 1 Axes>"
      ]
     },
     "metadata": {
      "needs_background": "light"
     },
     "output_type": "display_data"
    }
   ],
   "source": [
    "# Run this cell without changes\n",
    "fig, ax = plt.subplots(figsize=(16,5))\n",
    "\n",
    "ax.scatter(all_review_counts, all_ratings, alpha=0.2)\n",
    "ax.set_xlabel(\"Number of Reviews\")\n",
    "ax.set_ylabel(\"Rating\")\n",
    "\n",
    "# \"zoom in\" to a subset of review counts\n",
    "ax.set_xlim(left=0, right=1000);"
   ]
  },
  {
   "cell_type": "markdown",
   "metadata": {},
   "source": [
    "Is a higher number of reviews associated with a higher rating?"
   ]
  },
  {
   "cell_type": "code",
   "execution_count": 20,
   "metadata": {},
   "outputs": [
    {
     "data": {
      "text/plain": [
       "'\\nThis response is a little less clear-cut. Businesses with ratings of 5 OR less than 3 appear to have less than 400 reviews.\\nHowever, there are much more firms with 3.5 ratings than 3.0 ratings for those with less than 100 reviews.\\nTo address this more fully, we would need to do further research and perhaps revise the question.\\n'"
      ]
     },
     "execution_count": 20,
     "metadata": {},
     "output_type": "execute_result"
    }
   ],
   "source": [
    "# Replace None with appropriate text\n",
    "\"\"\"\n",
    "This response is a little less clear-cut. Businesses with ratings of 5 OR less than 3 appear to have less than 400 reviews.\n",
    "However, there are much more firms with 3.5 ratings than 3.0 ratings for those with less than 100 reviews.\n",
    "To address this more fully, we would need to do further research and perhaps revise the question.\n",
    "\"\"\""
   ]
  },
  {
   "cell_type": "markdown",
   "metadata": {},
   "source": [
    "## 4. Create a Folium Map\n",
    "\n",
    "Make a map using Folium of the businesses you retrieved. Be sure to also add popups to the markers giving some basic information such as name, rating and price.\n",
    "\n",
    "You can center the map around the latitude and longitude of the first item in `full_dataset`."
   ]
  },
  {
   "cell_type": "code",
   "execution_count": 21,
   "metadata": {},
   "outputs": [
    {
     "data": {
      "text/html": [
       "<div style=\"width:100%;\"><div style=\"position:relative;width:100%;height:0;padding-bottom:60%;\"><span style=\"color:#565656\">Make this Notebook Trusted to load map: File -> Trust Notebook</span><iframe src=\"about:blank\" style=\"position:absolute;width:100%;height:100%;left:0;top:0;border:none !important;\" data-html=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 onload=\"this.contentDocument.open();this.contentDocument.write(atob(this.getAttribute('data-html')));this.contentDocument.close();\" allowfullscreen webkitallowfullscreen mozallowfullscreen></iframe></div></div>"
      ],
      "text/plain": [
       "<folium.folium.Map at 0x2168a6560a0>"
      ]
     },
     "execution_count": 21,
     "metadata": {},
     "output_type": "execute_result"
    }
   ],
   "source": [
    "# Replace None with appropriate code\n",
    "\n",
    "# Import the library\n",
    "import folium\n",
    "\n",
    "# Set up center latitude and longitude\n",
    "center_lat = full_dataset[0]['latitude']\n",
    "center_long = full_dataset[0]['longitude']\n",
    "\n",
    "# Initialize map with center lat and long\n",
    "yelp_map = folium.Map([center_lat, center_long], zoom_start=12)\n",
    "\n",
    "# Adjust this limit to see more or fewer businesses\n",
    "limit=100\n",
    "\n",
    "for business in full_dataset[:limit]:\n",
    "    # Extract information about business\n",
    "    lat = business['latitude']\n",
    "    long = business['longitude']\n",
    "    name = business['name']\n",
    "    rating = business['rating']\n",
    "    price = business['price']\n",
    "    details = \"{}\\nPrice: {} Rating:{}\".format(name,price,rating)\n",
    "    \n",
    "    # Create popup with relevant details\n",
    "    popup = folium.Popup(details)\n",
    "    \n",
    "    # Create marker with relevant lat/long and popup\n",
    "    marker = folium.Marker([lat, long], popup=popup)\n",
    "    \n",
    "    marker.add_to(yelp_map)\n",
    "    \n",
    "yelp_map"
   ]
  },
  {
   "cell_type": "markdown",
   "metadata": {},
   "source": [
    "## Summary\n",
    "\n",
    "Nice work! In this lab, you've made multiple API calls to Yelp in order to paginate through a results set, performing some basic exploratory analysis and then creating a nice interactive map to display the results using Folium! Well done!"
   ]
  }
 ],
 "metadata": {
  "kernelspec": {
   "display_name": "learn-env",
   "language": "python",
   "name": "learn-env"
  },
  "language_info": {
   "codemirror_mode": {
    "name": "ipython",
    "version": 3
   },
   "file_extension": ".py",
   "mimetype": "text/x-python",
   "name": "python",
   "nbconvert_exporter": "python",
   "pygments_lexer": "ipython3",
   "version": "3.11.0"
  },
  "toc": {
   "base_numbering": 1,
   "nav_menu": {},
   "number_sections": true,
   "sideBar": true,
   "skip_h1_title": false,
   "title_cell": "Table of Contents",
   "title_sidebar": "Contents",
   "toc_cell": false,
   "toc_position": {},
   "toc_section_display": true,
   "toc_window_display": false
  }
 },
 "nbformat": 4,
 "nbformat_minor": 2
}
